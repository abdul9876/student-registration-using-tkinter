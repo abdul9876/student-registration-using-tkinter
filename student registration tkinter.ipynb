{
 "cells": [
  {
   "cell_type": "code",
   "execution_count": 4,
   "id": "08bb0acc",
   "metadata": {},
   "outputs": [],
   "source": [
    "from tkinter import *\n",
    "\n",
    "\n",
    "top = Tk()\n",
    "top.geometry(\"450x300\")\n",
    "\n",
    "Regno = Label(top, text=\"Regno\").place(x=40, y=60)\n",
    "\n",
    "Regno_entry = Entry(top, width=30).place(x=110, y=60)\n",
    "\n",
    "\n",
    "Name = Label(top, text=\"Name\").place(x=40, y=90)\n",
    "Name_entry = Entry(top, width=30).place(x=110, y=90)\n",
    "\n",
    "Dept = Label(top, text=\"Dept\").place(x=40, y=120)\n",
    "Dept_entry = Entry(top, width=30).place(x=110, y=120)\n",
    "\n",
    "Gender = Label(top, text=\"Gender\").place(x=40, y=150)\n",
    "var = IntVar()\n",
    "male = Radiobutton(top, text=\"Male\", variable=var, value=1).place(x=110, y=150)\n",
    "female = Radiobutton(top, text=\"Female\", variable=var, value=2).place(x=170, y=150)\n",
    "\n",
    "Age = Label(top, text=\"Age\").place(x=40, y=180)\n",
    "sp = Spinbox(top, from_=0, to=20).place(x=110, y=180)\n",
    "\n",
    "\n",
    "Insert = Button(top, text=\"Insert\").place(x=40, y=210)\n",
    "Insert = Button(top, text=\"Update\").place(x=120, y=210)\n",
    "Insert = Button(top, text=\"Delete\").place(x=40, y=250)\n",
    "Insert = Button(top, text=\"Select\").place(x=120, y=250)\n",
    "top.mainloop()\n"
   ]
  },
  {
   "cell_type": "code",
   "execution_count": null,
   "id": "fa8573df",
   "metadata": {},
   "outputs": [],
   "source": []
  }
 ],
 "metadata": {
  "kernelspec": {
   "display_name": "Python 3 (ipykernel)",
   "language": "python",
   "name": "python3"
  },
  "language_info": {
   "codemirror_mode": {
    "name": "ipython",
    "version": 3
   },
   "file_extension": ".py",
   "mimetype": "text/x-python",
   "name": "python",
   "nbconvert_exporter": "python",
   "pygments_lexer": "ipython3",
   "version": "3.9.7"
  }
 },
 "nbformat": 4,
 "nbformat_minor": 5
}
